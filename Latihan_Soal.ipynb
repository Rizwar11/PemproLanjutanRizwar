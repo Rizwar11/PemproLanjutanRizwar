{
  "cells": [
    {
      "cell_type": "markdown",
      "metadata": {
        "id": "view-in-github",
        "colab_type": "text"
      },
      "source": [
        "<a href=\"https://colab.research.google.com/github/Rizwar11/PemproLanjutanRizwar/blob/main/Latihan_Soal.ipynb\" target=\"_parent\"><img src=\"https://colab.research.google.com/assets/colab-badge.svg\" alt=\"Open In Colab\"/></a>"
      ]
    },
    {
      "cell_type": "markdown",
      "source": [
        "*Post Test*\n",
        "\n",
        "Nama : Rizwar Syaefulloh\n",
        "Nrp  : 2C2230009\n",
        "MK   : Lab Pemrograman lanjut"
      ],
      "metadata": {
        "id": "9cfMv7YkQSrJ"
      }
    },
    {
      "cell_type": "markdown",
      "source": [
        "NO.1\n",
        "Buatlah sebuah program yang menerima berat badan seorang atlit (bilangan bulat) dan menuliskan kelas pertandingan atlit bersangkutan. Jika berat badan atlit < 45 kg, tuliskan \"tidak memenuhi kualifikasi\"."
      ],
      "metadata": {
        "id": "JsLXwb4sQ4qY"
      }
    },
    {
      "cell_type": "code",
      "source": [
        "def menentukan_kelas_pertandingan_atlit(berat_badan):\n",
        "  if berat_badan < 45:\n",
        "    print(\"Tidak memenuhi kualifikasi\")\n",
        "  elif berat_badan >= 45 and berat_badan <= 50:\n",
        "    print(\"Kelas A\")\n",
        "  elif berat_badan >= 50 and berat_badan <= 55:\n",
        "    print(\"Kelas B\")\n",
        "  elif berat_badan >= 55 and berat_badan <= 60:\n",
        "    print(\"Kelas C\")\n",
        "  elif berat_badan >= 60 and berat_badan <= 65:\n",
        "    print(\"Kelas D\")\n",
        "  elif berat_badan >= 65 and berat_badan <= 70:\n",
        "    print(\"Kelas E\")\n",
        "  else:\n",
        "    print(\"Tidak memenuhi kualifikasi\")\n",
        "\n",
        "berat_badan = int(input(\"Masukkan berat badan atlet: \"))\n",
        "menentukan_kelas_pertandingan_atlit(berat_badan)"
      ],
      "metadata": {
        "id": "OJz8K-7uRRx0",
        "outputId": "5ed29b59-9bec-41e8-9f1d-32cdb6ab71c3",
        "colab": {
          "base_uri": "https://localhost:8080/"
        }
      },
      "execution_count": null,
      "outputs": [
        {
          "output_type": "stream",
          "name": "stdout",
          "text": [
            "Masukkan berat badan atlet: 45\n",
            "Kelas A\n"
          ]
        }
      ]
    },
    {
      "cell_type": "markdown",
      "source": [
        "*NO.2*\n"
      ],
      "metadata": {
        "id": "vEtooi_qYVQ1"
      }
    },
    {
      "cell_type": "code",
      "source": [
        "bilangan = int(input(\"Masukkan bilangan bulat tiga digit: \"))\n",
        "\n",
        "ratusan = bilangan // 100\n",
        "puluhan = (bilangan // 10) % 10\n",
        "satuan = bilangan % 10\n",
        "\n",
        "if bilangan == ratusan**3 + puluhan**3 + satuan**3:\n",
        "    print(f\"{bilangan} adalah bilangan Armstrong\")\n",
        "else:\n",
        "    print(f\"{bilangan} bukan bilangan Armstrong\")\n"
      ],
      "metadata": {
        "id": "HYiPVgkXYKVW",
        "outputId": "6e845941-e5c8-40ee-ad64-4e850e9c6f34",
        "colab": {
          "base_uri": "https://localhost:8080/"
        }
      },
      "execution_count": null,
      "outputs": [
        {
          "output_type": "stream",
          "name": "stdout",
          "text": [
            "Masukkan bilangan bulat tiga digit: 100\n",
            "100 bukan bilangan Armstrong\n"
          ]
        }
      ]
    },
    {
      "cell_type": "markdown",
      "source": [
        "*NO.3*"
      ],
      "metadata": {
        "id": "-5pKM-rtYagc"
      }
    },
    {
      "cell_type": "code",
      "source": [
        "import math\n",
        "\n",
        "a = float(input(\"Masukkan jari - jari: \"))\n",
        "b = float(input(\"Volume bola: \"))\n",
        "c = math.sqrt(4/3 * math.pi * a**3)\n",
        "\n",
        "\n"
      ],
      "metadata": {
        "id": "EP6iPyNTYRbG",
        "outputId": "e3a4d241-1324-442d-ac2c-8d0814b511b5",
        "colab": {
          "base_uri": "https://localhost:8080/"
        }
      },
      "execution_count": null,
      "outputs": [
        {
          "name": "stdout",
          "output_type": "stream",
          "text": [
            "Masukkan jari - jari: 15\n",
            "Volume bola: 13\n"
          ]
        }
      ]
    },
    {
      "cell_type": "markdown",
      "source": [
        "*NO.4*"
      ],
      "metadata": {
        "id": "Lag6yluGaTLP"
      }
    },
    {
      "cell_type": "code",
      "source": [
        "def main():\n",
        "    print(\"Masukkan tinggi badan siswa (dalam cm), akhiri dengan -999 untuk selesai:\")\n",
        "\n",
        "    total_tinggi = 0\n",
        "    jumlah_siswa = 0\n",
        "\n",
        "    while True:\n",
        "        try:\n",
        "            tinggi = int(input(\"Tinggi badan: \"))\n",
        "\n",
        "            # Cek kondisi untuk menghentikan input\n",
        "            if tinggi == -999:\n",
        "                break\n",
        "\n",
        "            # Validasi tinggi badan agar berada di antara 100 dan 200 cm\n",
        "            if 100 <= tinggi <= 200:\n",
        "                total_tinggi += tinggi\n",
        "                jumlah_siswa += 1\n",
        "            else:\n",
        "                print(\"Data tidak valid (kurang dari 100 cm atau lebih dari 200 cm) dan tidak dihitung.\")\n",
        "\n",
        "        except ValueError:\n",
        "            print(\"Masukkan angka yang valid.\")\n",
        "\n",
        "    # Menghitung dan menampilkan rata-rata tinggi badan jika ada data valid\n",
        "    if jumlah_siswa > 0:\n",
        "        rata_rata = total_tinggi / jumlah_siswa\n",
        "        print(f\"Rata-rata tinggi badan siswa adalah {rata_rata:.2f} cm.\")\n",
        "    else:\n",
        "        print(\"Tidak ada data yang valid untuk dihitung.\")\n",
        "\n",
        "if __name__ == \"__main__\":\n",
        "    main()\n"
      ],
      "metadata": {
        "id": "z_bGUWNFaWG8",
        "colab": {
          "base_uri": "https://localhost:8080/"
        },
        "outputId": "68a7a71c-9466-47df-ccf7-0a3e090da4c1"
      },
      "execution_count": 10,
      "outputs": [
        {
          "output_type": "stream",
          "name": "stdout",
          "text": [
            "Masukkan tinggi badan siswa (dalam cm), akhiri dengan -999 untuk selesai:\n",
            "Tinggi badan: 120\n",
            "Tinggi badan: 145\n",
            "Tinggi badan: 150\n",
            "Tinggi badan: -999\n",
            "Rata-rata tinggi badan siswa adalah 138.33 cm.\n"
          ]
        }
      ]
    },
    {
      "cell_type": "code",
      "source": [
        "def main():\n",
        "    print(\"Masukkan tinggi badan siswa (dalam cm), akhiri dengan -999 untuk selesai:\")\n",
        "\n",
        "    total_tinggi = 0\n",
        "    jumlah_siswa = 0\n",
        "\n",
        "    while True:\n",
        "        try:\n",
        "            tinggi = int(input(\"Tinggi badan: \"))\n",
        "\n",
        "            # Cek kondisi untuk menghentikan input\n",
        "            if tinggi == -999:\n",
        "                break\n",
        "\n",
        "            # Validasi tinggi badan agar berada di antara 100 dan 200 cm\n",
        "            if 100 <= tinggi <= 200:\n",
        "                total_tinggi += tinggi\n",
        "                jumlah_siswa += 1\n",
        "            else:\n",
        "                print(\"Data tidak valid (kurang dari 100 cm atau lebih dari 200 cm) dan tidak dihitung.\")\n",
        "\n",
        "        except ValueError:\n",
        "            print(\"Masukkan angka yang valid.\")\n",
        "\n",
        "    # Menghitung dan menampilkan rata-rata tinggi badan jika ada data valid\n",
        "    if jumlah_siswa > 0:\n",
        "        rata_rata = total_tinggi / jumlah_siswa\n",
        "        print(f\"Rata-rata tinggi badan siswa adalah {rata_rata:.2f} cm.\")\n",
        "    else:\n",
        "        print(\"Tidak ada data yang valid untuk dihitung.\")\n",
        "\n",
        "if __name__ == \"__main__\":\n",
        "    main()\n"
      ],
      "metadata": {
        "colab": {
          "base_uri": "https://localhost:8080/"
        },
        "id": "LbOyuK-RhRRw",
        "outputId": "08249282-391d-4e0f-b9f3-7d0a7482f795"
      },
      "execution_count": 11,
      "outputs": [
        {
          "output_type": "stream",
          "name": "stdout",
          "text": [
            "Masukkan tinggi badan siswa (dalam cm), akhiri dengan -999 untuk selesai:\n",
            "Tinggi badan: 120\n",
            "Tinggi badan: 78\n",
            "Data tidak valid (kurang dari 100 cm atau lebih dari 200 cm) dan tidak dihitung.\n",
            "Tinggi badan: 167\n",
            "Tinggi badan: 150\n",
            "Tinggi badan: 201\n",
            "Data tidak valid (kurang dari 100 cm atau lebih dari 200 cm) dan tidak dihitung.\n",
            "Tinggi badan: -999\n",
            "Rata-rata tinggi badan siswa adalah 145.67 cm.\n"
          ]
        }
      ]
    },
    {
      "cell_type": "code",
      "source": [
        "def main():\n",
        "    print(\"Masukkan tinggi badan siswa (dalam cm), akhiri dengan -999 untuk selesai:\")\n",
        "\n",
        "    total_tinggi = 0\n",
        "    jumlah_siswa = 0\n",
        "\n",
        "    while True:\n",
        "        try:\n",
        "            tinggi = int(input(\"Tinggi badan: \"))\n",
        "\n",
        "            # Cek kondisi untuk menghentikan input\n",
        "            if tinggi == -999:\n",
        "                break\n",
        "\n",
        "            # Validasi tinggi badan agar berada di antara 100 dan 200 cm\n",
        "            if 100 <= tinggi <= 200:\n",
        "                total_tinggi += tinggi\n",
        "                jumlah_siswa += 1\n",
        "            else:\n",
        "                print(\"Data tidak valid (kurang dari 100 cm atau lebih dari 200 cm) dan tidak dihitung.\")\n",
        "\n",
        "        except ValueError:\n",
        "            print(\"Masukkan angka yang valid.\")\n",
        "\n",
        "    # Menghitung dan menampilkan rata-rata tinggi badan jika ada data valid\n",
        "    if jumlah_siswa > 0:\n",
        "        rata_rata = total_tinggi / jumlah_siswa\n",
        "        print(f\"Rata-rata tinggi badan siswa adalah {rata_rata:.2f} cm.\")\n",
        "    else:\n",
        "        print(\"Tidak ada data yang valid untuk dihitung.\")\n",
        "\n",
        "if __name__ == \"__main__\":\n",
        "    main()\n"
      ],
      "metadata": {
        "colab": {
          "base_uri": "https://localhost:8080/"
        },
        "id": "QXUYvNPvhil5",
        "outputId": "9c7b2391-47ef-42f0-ce6e-d8aaed4cfd15"
      },
      "execution_count": 12,
      "outputs": [
        {
          "output_type": "stream",
          "name": "stdout",
          "text": [
            "Masukkan tinggi badan siswa (dalam cm), akhiri dengan -999 untuk selesai:\n",
            "Tinggi badan: -999\n",
            "Tidak ada data yang valid untuk dihitung.\n"
          ]
        }
      ]
    },
    {
      "cell_type": "code",
      "source": [
        "def main():\n",
        "    print(\"Masukkan tinggi badan siswa (dalam cm), akhiri dengan -999 untuk selesai:\")\n",
        "\n",
        "    total_tinggi = 0\n",
        "    jumlah_siswa = 0\n",
        "\n",
        "    while True:\n",
        "        try:\n",
        "            tinggi = int(input(\"Tinggi badan: \"))\n",
        "\n",
        "            # Cek kondisi untuk menghentikan input\n",
        "            if tinggi == -999:\n",
        "                break\n",
        "\n",
        "            # Validasi tinggi badan agar berada di antara 100 dan 200 cm\n",
        "            if 100 <= tinggi <= 200:\n",
        "                total_tinggi += tinggi\n",
        "                jumlah_siswa += 1\n",
        "            else:\n",
        "                print(\"Data tidak valid (kurang dari 100 cm atau lebih dari 200 cm) dan tidak dihitung.\")\n",
        "\n",
        "        except ValueError:\n",
        "            print(\"Masukkan angka yang valid.\")\n",
        "\n",
        "    # Menghitung dan menampilkan rata-rata tinggi badan jika ada data valid\n",
        "    if jumlah_siswa > 0:\n",
        "        rata_rata = total_tinggi / jumlah_siswa\n",
        "        print(f\"Rata-rata tinggi badan siswa adalah {rata_rata:.2f} cm.\")\n",
        "    else:\n",
        "        print(\"Tidak ada data yang valid untuk dihitung.\")\n",
        "\n",
        "if __name__ == \"__main__\":\n",
        "    main()\n"
      ],
      "metadata": {
        "colab": {
          "base_uri": "https://localhost:8080/"
        },
        "id": "pphpVX6KhozN",
        "outputId": "d33cc4da-a7c9-421e-e1dc-55b969138640"
      },
      "execution_count": 13,
      "outputs": [
        {
          "output_type": "stream",
          "name": "stdout",
          "text": [
            "Masukkan tinggi badan siswa (dalam cm), akhiri dengan -999 untuk selesai:\n",
            "Tinggi badan: 78\n",
            "Data tidak valid (kurang dari 100 cm atau lebih dari 200 cm) dan tidak dihitung.\n",
            "Tinggi badan: 201\n",
            "Data tidak valid (kurang dari 100 cm atau lebih dari 200 cm) dan tidak dihitung.\n",
            "Tinggi badan: -999\n",
            "Tidak ada data yang valid untuk dihitung.\n"
          ]
        }
      ]
    },
    {
      "cell_type": "markdown",
      "source": [
        "*NO.5*"
      ],
      "metadata": {
        "id": "Mit2jQdxfRVF"
      }
    },
    {
      "cell_type": "code",
      "source": [
        "n = int(input(\"Masukkan jumlah mahasiswa: \"))\n",
        "\n",
        "data_mahasiswa = []\n",
        "\n",
        "for i in range(n):\n",
        "    nama = input(\"Masukkan nama mahasiswa: \")\n",
        "    praktikum = int(input(\"Masukkan nilai praktikum: \"))\n",
        "    uts = int(input(\"Masukkan nilai uts: \"))\n",
        "    uas = int(input(\"Masukkan nilai uas: \"))\n",
        "\n",
        "    nilai_akhir = 0.2 * praktikum + 0.4 * uts + 0.4 * uas\n",
        "\n",
        "    if nilai_akhir >= 85:\n",
        "        indeks = \"A\"\n",
        "    elif nilai_akhir >= 75:\n",
        "        indeks = \"AB\"\n",
        "    elif nilai_akhir >= 70:\n",
        "        indeks = \"B\"\n",
        "    elif nilai_akhir >= 60:\n",
        "        indeks = \"BC\"\n",
        "    elif nilai_akhir >= 50:\n",
        "        indeks = \"C\"\n",
        "    elif nilai_akhir >= 40:\n",
        "        indeks = \"D\"\n",
        "    else:\n",
        "        indeks = \"E\"\n",
        "\n",
        "    data_mahasiswa.append([nama, praktikum, uts, uas, nilai_akhir, indeks])\n",
        "\n",
        "print(\"----------------------------------------------------\")\n",
        "print(\"Nama | Praktikum | UTS | UAS | Akhir | Indeks\")\n",
        "print(\"----------------------------------------------------\")\n",
        "\n",
        "for mahasiswa in data_mahasiswa:\n",
        "    print(f\"{mahasiswa[0]} | {mahasiswa[1]} | {mahasiswa[2]} | {mahasiswa[3]} | {mahasiswa[4]} | {mahasiswa[5]}\")"
      ],
      "metadata": {
        "colab": {
          "base_uri": "https://localhost:8080/"
        },
        "id": "qtYGtB95fQ26",
        "outputId": "4019caf5-0317-4f7c-e2f3-bf20566ab8b4"
      },
      "execution_count": 17,
      "outputs": [
        {
          "output_type": "stream",
          "name": "stdout",
          "text": [
            "Masukkan jumlah mahasiswa: 2\n",
            "Masukkan nama mahasiswa: tara\n",
            "Masukkan nilai praktikum: 80\n",
            "Masukkan nilai uts: 90\n",
            "Masukkan nilai uas: 100\n",
            "Masukkan nama mahasiswa: erlan\n",
            "Masukkan nilai praktikum: 90\n",
            "Masukkan nilai uts: 90\n",
            "Masukkan nilai uas: 100\n",
            "----------------------------------------------------\n",
            "Nama | Praktikum | UTS | UAS | Akhir | Indeks\n",
            "----------------------------------------------------\n",
            "tara | 80 | 90 | 100 | 92.0 | A\n",
            "erlan | 90 | 90 | 100 | 94.0 | A\n"
          ]
        }
      ]
    },
    {
      "cell_type": "markdown",
      "source": [],
      "metadata": {
        "id": "DkPBuB0xaTH4"
      }
    }
  ],
  "metadata": {
    "colab": {
      "toc_visible": true,
      "provenance": [],
      "include_colab_link": true
    },
    "kernelspec": {
      "display_name": "Python 3",
      "name": "python3"
    }
  },
  "nbformat": 4,
  "nbformat_minor": 0
}