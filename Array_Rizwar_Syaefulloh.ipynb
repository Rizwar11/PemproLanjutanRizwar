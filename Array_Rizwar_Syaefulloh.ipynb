{
  "nbformat": 4,
  "nbformat_minor": 0,
  "metadata": {
    "colab": {
      "provenance": [],
      "include_colab_link": true
    },
    "kernelspec": {
      "name": "python3",
      "display_name": "Python 3"
    },
    "language_info": {
      "name": "python"
    }
  },
  "cells": [
    {
      "cell_type": "markdown",
      "metadata": {
        "id": "view-in-github",
        "colab_type": "text"
      },
      "source": [
        "<a href=\"https://colab.research.google.com/github/Rizwar11/PemproLanjutanRizwar/blob/main/Array_Rizwar_Syaefulloh.ipynb\" target=\"_parent\"><img src=\"https://colab.research.google.com/assets/colab-badge.svg\" alt=\"Open In Colab\"/></a>"
      ]
    },
    {
      "cell_type": "markdown",
      "source": [
        "#**🖥️👩🏻‍💻PRAKTIKUM PEMROGRAMAN LANJUT🔥**\n",
        "##**Pertemuan (3) ARRAY - Senin, 28 Oktober 2024**\n",
        "\n",
        "👤 Nama: Array_Rizwar Syaefulloh / NRP: 2C2230009 / Kelas:Sains Data\n",
        "\n",
        "\n",
        "\n",
        "\n"
      ],
      "metadata": {
        "id": "_bN6_LxQCJZT"
      }
    },
    {
      "cell_type": "markdown",
      "source": [
        "#🤸🏻‍♀️ EKSPLORASI PRIBADI DI KELAS ✨"
      ],
      "metadata": {
        "id": "N0U2Qjks8P9F"
      }
    },
    {
      "cell_type": "code",
      "execution_count": null,
      "metadata": {
        "id": "itmMcxv88OIm"
      },
      "outputs": [],
      "source": []
    },
    {
      "cell_type": "markdown",
      "source": [
        "- Interpretasi coding:\n",
        "\n",
        "- Interpretasi Hasil:"
      ],
      "metadata": {
        "id": "f1J9LJyv9-YC"
      }
    },
    {
      "cell_type": "markdown",
      "source": [
        "#Latihan Modul 3\n"
      ],
      "metadata": {
        "id": "KEGjH0_P9D1-"
      }
    },
    {
      "cell_type": "markdown",
      "source": [],
      "metadata": {
        "id": "nt7-fY7s9PgC"
      }
    },
    {
      "cell_type": "code",
      "source": [
        "21def reverse_numbers():\n",
        "  \"\"\"\n",
        "  Menerima N buah bilangan dan menuliskan kembali bilangan-bilangan\n",
        "  tersebut dengan urutan terbalik.\n",
        "  \"\"\"\n",
        "  n = int(input(\"Masukkan N: \"))\n",
        "  numbers = []\n",
        "  for _ in range(n):\n",
        "    numbers.append(int(input()))\n",
        "\n",
        "  print(\"Hasil dibalik:\")\n",
        "  for i in range(len(numbers) - 1, -1, -1):\n",
        "    print(numbers[i], end=\" \")\n",
        "\n",
        "if __name__ == \"__main__\":\n",
        "  reverse_numbers()"
      ],
      "metadata": {
        "id": "h7si6sBj9Mr4",
        "colab": {
          "base_uri": "https://localhost:8080/"
        },
        "outputId": "3099594b-8315-4f18-b9d5-2f2de6d8d812"
      },
      "execution_count": 1,
      "outputs": [
        {
          "output_type": "stream",
          "name": "stdout",
          "text": [
            "Masukkan N: 5\n",
            "5\n",
            "2\n",
            "1\n",
            "6\n",
            "3\n",
            "Hasil dibalik:\n",
            "3 6 1 2 5 "
          ]
        }
      ]
    },
    {
      "cell_type": "code",
      "source": [
        "def is_anagram(A, B):\n",
        "  \"\"\"\n",
        "  Fungsi untuk memeriksa apakah array B adalah anagram dari array A.\n",
        "\n",
        "  Args:\n",
        "    A: Array pertama.\n",
        "    B: Array kedua.\n",
        "\n",
        "  Returns:\n",
        "    True jika B adalah anagram dari A, False jika tidak.\n",
        "  \"\"\"\n",
        "\n",
        "  if len(A) != len(B):\n",
        "    return False\n",
        "\n",
        "  freq_A = [0] * 11  # Tabel frekuensi untuk array A (asumsi elemen maks 10)\n",
        "  freq_B = [0] * 11  # Tabel frekuensi untuk array B\n",
        "\n",
        "  for num in A:\n",
        "    freq_A[num] += 1\n",
        "\n",
        "  for num in B:\n",
        "    freq_B[num] += 1\n",
        "\n",
        "  return freq_A == freq_B\n",
        "\n",
        "\n",
        "# Input banyaknya elemen A\n",
        "n = int(input(\"Masukkan banyaknya elemen A: \"))\n",
        "\n",
        "# Input elemen A\n",
        "A = []\n",
        "for i in range(n):\n",
        "  A.append(int(input(f\"Masukkan elemen A ke-{i + 1}: \")))\n",
        "\n",
        "# Input banyaknya elemen B\n",
        "m = int(input(\"Masukkan banyaknya elemen B: \"))\n",
        "\n",
        "# Input elemen B\n",
        "B = []\n",
        "for i in range(m):\n",
        "  B.append(int(input(f\"Masukkan elemen B ke-{i + 1}: \")))\n",
        "\n",
        "# Periksa apakah B adalah anagram dari A\n",
        "if is_anagram(A, B):\n",
        "  print(\"B adalah anagram dari A.\")\n",
        "else:\n",
        "  print(\"B bukan anagram dari A.\")"
      ],
      "metadata": {
        "colab": {
          "base_uri": "https://localhost:8080/"
        },
        "id": "_rtMwvVhc7y3",
        "outputId": "b818de4f-083c-44bc-9e1c-a7648931d844"
      },
      "execution_count": 4,
      "outputs": [
        {
          "output_type": "stream",
          "name": "stdout",
          "text": [
            "Masukkan banyaknya elemen A: 3\n",
            "Masukkan elemen A ke-1: 8\n",
            "Masukkan elemen A ke-2: 4\n",
            "Masukkan elemen A ke-3: 3\n",
            "Masukkan banyaknya elemen B: 3\n",
            "Masukkan elemen B ke-1: 4\n",
            "Masukkan elemen B ke-2: 8\n",
            "Masukkan elemen B ke-3: 3\n",
            "B adalah anagram dari A.\n"
          ]
        }
      ]
    },
    {
      "cell_type": "code",
      "source": [
        "def is_anagram(A, B):\n",
        "  \"\"\"\n",
        "  Fungsi untuk memeriksa apakah array B adalah anagram dari array A.\n",
        "\n",
        "  Args:\n",
        "    A: Array pertama.\n",
        "    B: Array kedua.\n",
        "\n",
        "  Returns:\n",
        "    True jika B adalah anagram dari A, False jika tidak.\n",
        "  \"\"\"\n",
        "\n",
        "  if len(A) != len(B):\n",
        "    return False\n",
        "\n",
        "  freq_A = [0] * 11  # Tabel frekuensi untuk array A (asumsi elemen maks 10)\n",
        "  freq_B = [0] * 11  # Tabel frekuensi untuk array B\n",
        "\n",
        "  for num in A:\n",
        "    freq_A[num] += 1\n",
        "\n",
        "  for num in B:\n",
        "    freq_B[num] += 1\n",
        "\n",
        "  return freq_A == freq_B\n",
        "\n",
        "\n",
        "# Input banyaknya elemen A\n",
        "n = int(input(\"Masukkan banyaknya elemen A: \"))\n",
        "\n",
        "# Input elemen A\n",
        "A = []\n",
        "for i in range(n):\n",
        "  A.append(int(input(f\"Masukkan elemen A ke-{i + 1}: \")))\n",
        "\n",
        "# Input banyaknya elemen B\n",
        "m = int(input(\"Masukkan banyaknya elemen B: \"))\n",
        "\n",
        "# Input elemen B\n",
        "B = []\n",
        "for i in range(m):\n",
        "  B.append(int(input(f\"Masukkan elemen B ke-{i + 1}: \")))\n",
        "\n",
        "# Periksa apakah B adalah anagram dari A\n",
        "if is_anagram(A, B):\n",
        "  print(\"B adalah anagram dari A.\")\n",
        "else:\n",
        "  print(\"B bukan anagram dari A.\")"
      ],
      "metadata": {
        "colab": {
          "base_uri": "https://localhost:8080/"
        },
        "id": "7KUF6ZxSekQ-",
        "outputId": "f683179b-6339-4a6e-fb96-59952af61969"
      },
      "execution_count": 5,
      "outputs": [
        {
          "output_type": "stream",
          "name": "stdout",
          "text": [
            "Masukkan banyaknya elemen A: 2\n",
            "Masukkan elemen A ke-1: 1\n",
            "Masukkan elemen A ke-2: 4\n",
            "Masukkan banyaknya elemen B: 2\n",
            "Masukkan elemen B ke-1: 1\n",
            "Masukkan elemen B ke-2: 5\n",
            "B bukan anagram dari A.\n"
          ]
        }
      ]
    },
    {
      "cell_type": "code",
      "source": [
        "def is_palindrome(input_string):\n",
        "  \"\"\"\n",
        "  Fungsi untuk memeriksa apakah sebuah string adalah palindrom.\n",
        "\n",
        "  Args:\n",
        "    input_string: String yang akan diperiksa.\n",
        "\n",
        "  Returns:\n",
        "    True jika string adalah palindrom, False jika tidak.\n",
        "  \"\"\"\n",
        "  return input_string == input_string[::-1]\n",
        "\n",
        "\n",
        "n = int(input(\"Masukkan panjang string: \"))\n",
        "input_string = input(\"Masukkan string: \")\n",
        "\n",
        "if is_palindrome(input_string):\n",
        "  print(input_string, \"adalah palindrom\")\n",
        "else:\n",
        "  print(input_string, \"bukan palindrom\")"
      ],
      "metadata": {
        "colab": {
          "base_uri": "https://localhost:8080/"
        },
        "id": "XnGfjRn1eyAO",
        "outputId": "c727555a-4377-440c-c614-47e2065a47bd"
      },
      "execution_count": 6,
      "outputs": [
        {
          "output_type": "stream",
          "name": "stdout",
          "text": [
            "Masukkan panjang string: 5\n",
            "Masukkan string: makan\n",
            "makan bukan palindrom\n"
          ]
        }
      ]
    },
    {
      "cell_type": "code",
      "source": [
        "def is_palindrome(input_string):\n",
        "  \"\"\"\n",
        "  Fungsi untuk memeriksa apakah sebuah string adalah palindrom.\n",
        "\n",
        "  Args:\n",
        "    input_string: String yang akan diperiksa.\n",
        "\n",
        "  Returns:\n",
        "    True jika string adalah palindrom, False jika tidak.\n",
        "  \"\"\"\n",
        "  return input_string == input_string[::-1]\n",
        "\n",
        "\n",
        "n = int(input(\"Masukkan panjang string: \"))\n",
        "input_string = input(\"Masukkan string: \")\n",
        "\n",
        "if is_palindrome(input_string):\n",
        "  print(input_string, \"adalah palindrom\")\n",
        "else:\n",
        "  print(input_string, \"bukan palindrom\")"
      ],
      "metadata": {
        "colab": {
          "base_uri": "https://localhost:8080/"
        },
        "id": "YDzrhjJ-fEwa",
        "outputId": "96edbc74-fff9-45c1-c67e-89943e574369"
      },
      "execution_count": 7,
      "outputs": [
        {
          "output_type": "stream",
          "name": "stdout",
          "text": [
            "Masukkan panjang string: 10\n",
            "Masukkan string: kasurrusak\n",
            "kasurrusak adalah palindrom\n"
          ]
        }
      ]
    },
    {
      "cell_type": "code",
      "source": [
        "def is_palindrome(input_string):\n",
        "  \"\"\"\n",
        "  Fungsi untuk memeriksa apakah sebuah string adalah palindrom.\n",
        "\n",
        "  Args:\n",
        "    input_string: String yang akan diperiksa.\n",
        "\n",
        "  Returns:\n",
        "    True jika string adalah palindrom, False jika tidak.\n",
        "  \"\"\"\n",
        "  return input_string == input_string[::-1]\n",
        "\n",
        "\n",
        "n = int(input(\"Masukkan panjang string: \"))\n",
        "input_string = input(\"Masukkan string: \")\n",
        "\n",
        "if is_palindrome(input_string):\n",
        "  print(input_string, \"adalah palindrom\")\n",
        "else:\n",
        "  print(input_string, \"bukan palindrom\")"
      ],
      "metadata": {
        "colab": {
          "base_uri": "https://localhost:8080/"
        },
        "id": "1XRZPAtnfKw1",
        "outputId": "0d562e76-5abf-421b-bf2b-2402d0801770"
      },
      "execution_count": 8,
      "outputs": [
        {
          "output_type": "stream",
          "name": "stdout",
          "text": [
            "Masukkan panjang string: 3\n",
            "Masukkan string: apa\n",
            "apa adalah palindrom\n"
          ]
        }
      ]
    },
    {
      "cell_type": "markdown",
      "source": [
        "- Interpretasi coding:\n",
        "\n",
        "- Interpretasi Hasil:"
      ],
      "metadata": {
        "id": "Wou8YKfJ9lvY"
      }
    },
    {
      "cell_type": "markdown",
      "source": [
        "Problem (2) Bilangan Ganjil"
      ],
      "metadata": {
        "id": "Eucg6DUK9fgA"
      }
    },
    {
      "cell_type": "code",
      "source": [],
      "metadata": {
        "id": "9uWMEZpP9hlB"
      },
      "execution_count": null,
      "outputs": []
    },
    {
      "cell_type": "markdown",
      "source": [
        "- Interpretasi coding:\n",
        "\n",
        "- Interpretasi Hasil:"
      ],
      "metadata": {
        "id": "fM9Fo97_93Ni"
      }
    },
    {
      "cell_type": "markdown",
      "source": [
        "#🏆 POST TEST 🎯"
      ],
      "metadata": {
        "id": "J_75vTSXKFGE"
      }
    },
    {
      "cell_type": "markdown",
      "source": [
        "Problem (1)"
      ],
      "metadata": {
        "id": "twhHfrqiKSfV"
      }
    },
    {
      "cell_type": "code",
      "source": [],
      "metadata": {
        "id": "hOI8Gls9KV05"
      },
      "execution_count": null,
      "outputs": []
    },
    {
      "cell_type": "markdown",
      "source": [
        "- Interpretasi coding:\n",
        "- Interpretasi hasil:"
      ],
      "metadata": {
        "id": "t9x---59KWVI"
      }
    },
    {
      "cell_type": "markdown",
      "source": [
        "📌Catatan:\n",
        "  - Notebook python ini dibuat untuk memudahkan temen-temen belajar ngoding dan pengumpulan tugas.\n",
        "  - Silakan download notebook ini lalu upload di Google Collab milik kalian agar format `pertemuan`, `topik pertemuan`,\n",
        "`tanggal`, `deskripsi pembahasan materi`, `baris coding` dan `interpretasi` bisa disesuaikan dengan kebutuhan teman-teman.\n",
        "\n",
        "  - Interpretasi coding dan hasil dimaksudkan agar teman-teman semakin memahami apa yang dipelajari.\n",
        "\n",
        "  - Deskripsi pembahasan materi dimaksudkan agar teman-teman semakin memahami apa fokus yang dipelajari.\n",
        "\n",
        "  - Tulisan di setiap sebelum baris code disebut `markdown`. Ada beberapa jenis simbol yang memudahkan kepenulisan `markdown` kita, yaitu seperti : untuk mengatur ukuran tulisan biasanya tulisan pada header menggunakan ini`#`, `##`, `###`, untuk membuat pointer menggunakan ini `-`, untuk membuat tulisan ter-highlight menggunakan ini *` `* , untuk short-cut membuat tulisan jadi **bold** gunakan ini `** **`, dan untuk *tulisan miring* gunakan ini `* *` .\n",
        "\n",
        "  - Semangat belajar! 🌟✨\n",
        "\n",
        "©️ LABORATORIUM SAINS DATA 2024"
      ],
      "metadata": {
        "id": "D-tRQnbQK69l"
      }
    }
  ]
}